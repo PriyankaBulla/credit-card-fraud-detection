{
 "cells": [
  {
   "cell_type": "code",
   "execution_count": 3,
   "metadata": {},
   "outputs": [],
   "source": [
    "#####import all library ######\n",
    "import sys as sy\n",
    "import pandas as pd\n",
    "import seaborn as sns\n",
    "import sklearn as sk\n",
    "import matplotlib as mpl\n",
    "import numpy as np\n",
    "import scipy as sp\n",
    "#####imported librabries######\n",
    "\n",
    "\n",
    "\n",
    "from IPython.display import display, HTML\n",
    "from sklearn.model_selection import train_test_split\n",
    "from sklearn.metrics import confusion_matrix, cohen_kappa_score\n",
    "from sklearn.ensemble import RandomForestClassifier\n",
    "from imblearn.over_sampling import SMOTE\n",
    "from sklearn.linear_model import LogisticRegression\n",
    "from sklearn.datasets import make_classification\n",
    "from sklearn.metrics import classification_report\n",
    "from matplotlib import pyplot as plt\n",
    "from sklearn.preprocessing import StandardScaler\n",
    "from imblearn.pipeline import make_pipeline as make_pipeline_imb # To do our transformation in a unique time\n",
    "from imblearn.metrics import classification_report_imbalanced\n",
    "from collections import Counter\n",
    "from sklearn.metrics import precision_score, recall_score, f1_score,fbeta_score, confusion_matrix, precision_recall_curve, accuracy_score\n",
    "\n"
   ]
  },
  {
   "cell_type": "code",
   "execution_count": 4,
   "metadata": {},
   "outputs": [
    {
     "name": "stdout",
     "output_type": "stream",
     "text": [
      "         V1        V2        V3        V4        V5        V6        V7  \\\n",
      "0 -0.425966  0.960523  1.141109 -0.168252  0.420987 -0.029728  0.476201   \n",
      "1  1.229658  0.141004  0.045371  1.202613  0.191881  0.272708 -0.005159   \n",
      "2 -0.644269  1.417964  1.074380 -0.492199  0.948934  0.428118  1.120631   \n",
      "3 -0.894286  0.286157 -0.113192 -0.271526  2.669599  3.721818  0.370145   \n",
      "4 -0.338262  1.119593  1.044367 -0.222187  0.499361 -0.246761  0.651583   \n",
      "\n",
      "         V8        V9       V10  ...       V22       V23       V24       V25  \\\n",
      "0  0.260314 -0.568671 -0.371407  ... -0.559825 -0.026398 -0.371427 -0.232794   \n",
      "1  0.081213  0.464960 -0.099254  ... -0.270710 -0.154104 -0.780055  0.750137   \n",
      "2 -3.807864  0.615375  1.249376  ... -1.015455  0.057504 -0.649709 -0.415267   \n",
      "3  0.851084 -0.392048 -0.410430  ... -0.268092 -0.204233  1.011592  0.373205   \n",
      "4  0.069539 -0.736727 -0.366846  ... -0.633753 -0.120794 -0.385050 -0.069733   \n",
      "\n",
      "        V26       V27       V28  Class  scaled_amount  scaled_time  \n",
      "0  0.105915  0.253844  0.081080      0      -0.338550    -1.996628  \n",
      "1 -0.257237  0.034507  0.005168      0      -0.333273    -1.996586  \n",
      "2 -0.051634 -1.206921 -1.085339      0      -0.190102    -1.996523  \n",
      "3 -0.384157  0.011747  0.142404      0       0.019396    -1.996523  \n",
      "4  0.094199  0.246219  0.083076      0      -0.338510    -1.996481  \n",
      "\n",
      "[5 rows x 31 columns]\n"
     ]
    },
    {
     "data": {
      "text/html": [
       "<table border=\"1\" class=\"dataframe\">\n",
       "  <thead>\n",
       "    <tr style=\"text-align: right;\">\n",
       "      <th></th>\n",
       "      <th>V1</th>\n",
       "      <th>V2</th>\n",
       "      <th>V3</th>\n",
       "      <th>V4</th>\n",
       "      <th>V5</th>\n",
       "      <th>V6</th>\n",
       "      <th>V7</th>\n",
       "      <th>V8</th>\n",
       "      <th>V9</th>\n",
       "      <th>V10</th>\n",
       "      <th>V11</th>\n",
       "      <th>V12</th>\n",
       "      <th>V13</th>\n",
       "      <th>V14</th>\n",
       "      <th>V15</th>\n",
       "      <th>V16</th>\n",
       "      <th>V17</th>\n",
       "      <th>V18</th>\n",
       "      <th>V19</th>\n",
       "      <th>V20</th>\n",
       "      <th>V21</th>\n",
       "      <th>V22</th>\n",
       "      <th>V23</th>\n",
       "      <th>V24</th>\n",
       "      <th>V25</th>\n",
       "      <th>V26</th>\n",
       "      <th>V27</th>\n",
       "      <th>V28</th>\n",
       "      <th>Class</th>\n",
       "      <th>scaled_amount</th>\n",
       "      <th>scaled_time</th>\n",
       "    </tr>\n",
       "  </thead>\n",
       "  <tbody>\n",
       "    <tr>\n",
       "      <th>0</th>\n",
       "      <td>-0.425966</td>\n",
       "      <td>0.960523</td>\n",
       "      <td>1.141109</td>\n",
       "      <td>-0.168252</td>\n",
       "      <td>0.420987</td>\n",
       "      <td>-0.029728</td>\n",
       "      <td>0.476201</td>\n",
       "      <td>0.260314</td>\n",
       "      <td>-0.568671</td>\n",
       "      <td>-0.371407</td>\n",
       "      <td>1.341262</td>\n",
       "      <td>0.359894</td>\n",
       "      <td>-0.358091</td>\n",
       "      <td>-0.137134</td>\n",
       "      <td>0.517617</td>\n",
       "      <td>0.401726</td>\n",
       "      <td>-0.058133</td>\n",
       "      <td>0.068653</td>\n",
       "      <td>-0.033194</td>\n",
       "      <td>0.084968</td>\n",
       "      <td>-0.208254</td>\n",
       "      <td>-0.559825</td>\n",
       "      <td>-0.026398</td>\n",
       "      <td>-0.371427</td>\n",
       "      <td>-0.232794</td>\n",
       "      <td>0.105915</td>\n",
       "      <td>0.253844</td>\n",
       "      <td>0.081080</td>\n",
       "      <td>0</td>\n",
       "      <td>-0.338550</td>\n",
       "      <td>-1.996628</td>\n",
       "    </tr>\n",
       "    <tr>\n",
       "      <th>1</th>\n",
       "      <td>1.229658</td>\n",
       "      <td>0.141004</td>\n",
       "      <td>0.045371</td>\n",
       "      <td>1.202613</td>\n",
       "      <td>0.191881</td>\n",
       "      <td>0.272708</td>\n",
       "      <td>-0.005159</td>\n",
       "      <td>0.081213</td>\n",
       "      <td>0.464960</td>\n",
       "      <td>-0.099254</td>\n",
       "      <td>-1.416907</td>\n",
       "      <td>-0.153826</td>\n",
       "      <td>-0.751063</td>\n",
       "      <td>0.167372</td>\n",
       "      <td>0.050144</td>\n",
       "      <td>-0.443587</td>\n",
       "      <td>0.002821</td>\n",
       "      <td>-0.611987</td>\n",
       "      <td>-0.045575</td>\n",
       "      <td>-0.219633</td>\n",
       "      <td>-0.167716</td>\n",
       "      <td>-0.270710</td>\n",
       "      <td>-0.154104</td>\n",
       "      <td>-0.780055</td>\n",
       "      <td>0.750137</td>\n",
       "      <td>-0.257237</td>\n",
       "      <td>0.034507</td>\n",
       "      <td>0.005168</td>\n",
       "      <td>0</td>\n",
       "      <td>-0.333273</td>\n",
       "      <td>-1.996586</td>\n",
       "    </tr>\n",
       "    <tr>\n",
       "      <th>2</th>\n",
       "      <td>-0.644269</td>\n",
       "      <td>1.417964</td>\n",
       "      <td>1.074380</td>\n",
       "      <td>-0.492199</td>\n",
       "      <td>0.948934</td>\n",
       "      <td>0.428118</td>\n",
       "      <td>1.120631</td>\n",
       "      <td>-3.807864</td>\n",
       "      <td>0.615375</td>\n",
       "      <td>1.249376</td>\n",
       "      <td>-0.619468</td>\n",
       "      <td>0.291474</td>\n",
       "      <td>1.757964</td>\n",
       "      <td>-1.323865</td>\n",
       "      <td>0.686133</td>\n",
       "      <td>-0.076127</td>\n",
       "      <td>-1.222127</td>\n",
       "      <td>-0.358222</td>\n",
       "      <td>0.324505</td>\n",
       "      <td>-0.156742</td>\n",
       "      <td>1.943465</td>\n",
       "      <td>-1.015455</td>\n",
       "      <td>0.057504</td>\n",
       "      <td>-0.649709</td>\n",
       "      <td>-0.415267</td>\n",
       "      <td>-0.051634</td>\n",
       "      <td>-1.206921</td>\n",
       "      <td>-1.085339</td>\n",
       "      <td>0</td>\n",
       "      <td>-0.190102</td>\n",
       "      <td>-1.996523</td>\n",
       "    </tr>\n",
       "    <tr>\n",
       "      <th>3</th>\n",
       "      <td>-0.894286</td>\n",
       "      <td>0.286157</td>\n",
       "      <td>-0.113192</td>\n",
       "      <td>-0.271526</td>\n",
       "      <td>2.669599</td>\n",
       "      <td>3.721818</td>\n",
       "      <td>0.370145</td>\n",
       "      <td>0.851084</td>\n",
       "      <td>-0.392048</td>\n",
       "      <td>-0.410430</td>\n",
       "      <td>-0.705117</td>\n",
       "      <td>-0.110452</td>\n",
       "      <td>-0.286254</td>\n",
       "      <td>0.074355</td>\n",
       "      <td>-0.328783</td>\n",
       "      <td>-0.210077</td>\n",
       "      <td>-0.499768</td>\n",
       "      <td>0.118765</td>\n",
       "      <td>0.570328</td>\n",
       "      <td>0.052736</td>\n",
       "      <td>-0.073425</td>\n",
       "      <td>-0.268092</td>\n",
       "      <td>-0.204233</td>\n",
       "      <td>1.011592</td>\n",
       "      <td>0.373205</td>\n",
       "      <td>-0.384157</td>\n",
       "      <td>0.011747</td>\n",
       "      <td>0.142404</td>\n",
       "      <td>0</td>\n",
       "      <td>0.019396</td>\n",
       "      <td>-1.996523</td>\n",
       "    </tr>\n",
       "    <tr>\n",
       "      <th>4</th>\n",
       "      <td>-0.338262</td>\n",
       "      <td>1.119593</td>\n",
       "      <td>1.044367</td>\n",
       "      <td>-0.222187</td>\n",
       "      <td>0.499361</td>\n",
       "      <td>-0.246761</td>\n",
       "      <td>0.651583</td>\n",
       "      <td>0.069539</td>\n",
       "      <td>-0.736727</td>\n",
       "      <td>-0.366846</td>\n",
       "      <td>1.017614</td>\n",
       "      <td>0.836390</td>\n",
       "      <td>1.006844</td>\n",
       "      <td>-0.443523</td>\n",
       "      <td>0.150219</td>\n",
       "      <td>0.739453</td>\n",
       "      <td>-0.540980</td>\n",
       "      <td>0.476677</td>\n",
       "      <td>0.451773</td>\n",
       "      <td>0.203711</td>\n",
       "      <td>-0.246914</td>\n",
       "      <td>-0.633753</td>\n",
       "      <td>-0.120794</td>\n",
       "      <td>-0.385050</td>\n",
       "      <td>-0.069733</td>\n",
       "      <td>0.094199</td>\n",
       "      <td>0.246219</td>\n",
       "      <td>0.083076</td>\n",
       "      <td>0</td>\n",
       "      <td>-0.338510</td>\n",
       "      <td>-1.996481</td>\n",
       "    </tr>\n",
       "  </tbody>\n",
       "</table>"
      ],
      "text/plain": [
       "<IPython.core.display.HTML object>"
      ]
     },
     "metadata": {},
     "output_type": "display_data"
    }
   ],
   "source": [
    "#Loading data from the csv to df\n",
    "df = pd.read_csv('creditcard.csv')\n",
    "##deination of scaling\n",
    "scaler = StandardScaler()\n",
    "scaler2 = StandardScaler()\n",
    "#scaling time\n",
    "scaled_time = scaler.fit_transform(df[['Time']])\n",
    "flat_list1 = [item for sublist in scaled_time.tolist() for item in sublist]\n",
    "scaled_time = pd.Series(flat_list1)\n",
    "#scaling the amount column\n",
    "scaled_amount = scaler2.fit_transform(df[['Amount']])\n",
    "flat_list2 = [item for sublist in scaled_amount.tolist() for item in sublist]\n",
    "scaled_amount = pd.Series(flat_list2)\n",
    "\n",
    "#concatenating newly created columns w original df\n",
    "df = pd.concat([df, scaled_amount.rename('scaled_amount'), scaled_time.rename('scaled_time')], axis=1)\n",
    "df.sample(5)\n",
    "\n",
    "#dropping old amount and time columns\n",
    "df.drop(['Amount', 'Time'], axis=1, inplace=True)\n",
    "print(df.head())\n",
    "display(HTML(df.head(5).to_html()))"
   ]
  },
  {
   "cell_type": "code",
   "execution_count": 5,
   "metadata": {},
   "outputs": [
    {
     "name": "stdout",
     "output_type": "stream",
     "text": [
      "(492, 31)\n",
      "(284310, 31)\n"
     ]
    }
   ],
   "source": [
    "##Initializing frauds and valid count as 0 and 1\n",
    "class_names = {0:'Not Fraud', 1:'Fraud'}\n",
    "\n",
    "#separting the fraud and non fraud cases\n",
    "Fraud=df[df['Class']==1] #X\n",
    "print(Fraud.shape)\n",
    "Valid=df[df['Class']==0] #Y\n",
    "print(Valid.shape)"
   ]
  },
  {
   "cell_type": "code",
   "execution_count": 6,
   "metadata": {},
   "outputs": [],
   "source": [
    "###Equal number folds for Fraud\n",
    "split_dataframe = np.split(Fraud,6)\n",
    "f1 = split_dataframe[0].reset_index(drop=True)\n",
    "f2 = split_dataframe[1].reset_index(drop=True)\n",
    "f3 = split_dataframe[2].reset_index(drop=True)\n",
    "f4 = split_dataframe[3].reset_index(drop=True)\n",
    "f5 = split_dataframe[4].reset_index(drop=True)\n",
    "f6 = split_dataframe[5].reset_index(drop=True)"
   ]
  },
  {
   "cell_type": "code",
   "execution_count": 7,
   "metadata": {},
   "outputs": [],
   "source": [
    "##Equal number folds for Valid atat\n",
    "split_dataframe = np.split(Valid,6)\n",
    "v1 = split_dataframe[0].reset_index(drop=True)\n",
    "v2 = split_dataframe[1].reset_index(drop=True)\n",
    "v3 = split_dataframe[2].reset_index(drop=True)\n",
    "v4 = split_dataframe[3].reset_index(drop=True)\n",
    "v5 = split_dataframe[4].reset_index(drop=True)\n",
    "v6 = split_dataframe[5].reset_index(drop=True)"
   ]
  },
  {
   "cell_type": "code",
   "execution_count": 8,
   "metadata": {},
   "outputs": [],
   "source": [
    "### test 6 Rounds by merging data\n",
    "r1_test=pd.concat([f1,v1])\n",
    "r1_test = r1_test.sample(frac=1).reset_index(drop=True)\n",
    "r2_test=pd.concat([f2,v2])\n",
    "r2_test = r2_test.sample(frac=1).reset_index(drop=True)\n",
    "r3_test=pd.concat([f3,v3])\n",
    "r3_test = r3_test.sample(frac=1).reset_index(drop=True)\n",
    "r4_test=pd.concat([f4,v4])\n",
    "r4_test = r4_test.sample(frac=1).reset_index(drop=True)\n",
    "r5_test=pd.concat([f5,v5])\n",
    "r5_test = r5_test.sample(frac=1).reset_index(drop=True)\n",
    "r6_test=pd.concat([f6,v6])\n",
    "r6_test = r6_test.sample(frac=1).reset_index(drop=True)"
   ]
  },
  {
   "cell_type": "code",
   "execution_count": 9,
   "metadata": {},
   "outputs": [],
   "source": [
    "###Train 6 round by merging data\n",
    "r1_train=pd.concat([f2,f3,f4,f5,f6,v2,v3,v4,v5,v6])\n",
    "r1_train = r1_train.sample(frac=1).reset_index(drop=True)\n",
    "r2_train=pd.concat([f1,f3,f4,f5,f6,v1,v3,v4,v5,v6])\n",
    "r2_train = r2_train.sample(frac=1).reset_index(drop=True)\n",
    "r3_train=pd.concat([f1,f2,f4,f5,f6,v1,v2,v4,v5,v6])\n",
    "r3_train = r3_train.sample(frac=1).reset_index(drop=True)\n",
    "r4_train=pd.concat([f1,f3,f2,f5,f6,v1,v3,v2,v5,v6])\n",
    "r4_train = r4_train.sample(frac=1).reset_index(drop=True)\n",
    "r5_train=pd.concat([f1,f3,f4,f2,f6,v1,v3,v4,v2,v6])\n",
    "r5_train = r5_train.sample(frac=1).reset_index(drop=True)\n",
    "r6_train=pd.concat([f1,f3,f4,f5,f2,v1,v3,v4,v5,v2])\n",
    "r6_train = r6_train.sample(frac=1).reset_index(drop=True)"
   ]
  },
  {
   "cell_type": "code",
   "execution_count": 10,
   "metadata": {},
   "outputs": [
    {
     "name": "stdout",
     "output_type": "stream",
     "text": [
      "236925\n",
      "236925\n"
     ]
    },
    {
     "name": "stderr",
     "output_type": "stream",
     "text": [
      "C:\\Users\\priya\\Anaconda3\\lib\\site-packages\\sklearn\\linear_model\\logistic.py:432: FutureWarning: Default solver will be changed to 'lbfgs' in 0.22. Specify a solver to silence this warning.\n",
      "  FutureWarning)\n"
     ]
    },
    {
     "name": "stdout",
     "output_type": "stream",
     "text": [
      "precision:  0.017168449863150036\n",
      "recall:  0.8414634146341463\n",
      "f1-score:  0.033650329188002925\n",
      "Accuracy:  0.9165104177639202\n",
      "Confusion Matrix :\n",
      "[[43435  3950]\n",
      " [   13    69]]\n",
      "Accuracy Score : 0.9165104177639202\n",
      "Report : \n"
     ]
    },
    {
     "data": {
      "image/png": "[encoded data removed]",
      "text/plain": [
       "<Figure size 360x360 with 2 Axes>"
      ]
     },
     "metadata": {
      "needs_background": "light"
     },
     "output_type": "display_data"
    },
    {
     "name": "stdout",
     "output_type": "stream",
     "text": [
      "[0.9165104177639202]\n",
      "[0.017168449863150036]\n",
      "[0.8414634146341463]\n",
      "[0.033650329188002925]\n"
     ]
    }
   ],
   "source": [
    "##Create list for conacatenate results of accuracy,precision,recall and f1-score\n",
    "list1=[] #for average\n",
    "list2=[] #for precision\n",
    "list3=[] #for recall\n",
    "list4=[] #f1-score\n",
    "list1.clear()\n",
    "list2.clear()\n",
    "list3.clear()\n",
    "list4.clear()\n",
    "###Logistic regression for round 1 \n",
    "r1_train_m1=r1_train.copy(deep=True)\n",
    "X1_train=r1_train_m1.drop([\"Class\"], axis=1).values #Setting the X to do the split\n",
    "y1_train=r1_train_m1[\"Class\"].values\n",
    "#Applying smote on train function for balancing the data\n",
    "smt = SMOTE()\n",
    "X1_train, y1_train = smt.fit_sample(X1_train, y1_train)\n",
    "print(np.count_nonzero(y1_train== 0))\n",
    "print(np.count_nonzero(y1_train== 1))\n",
    "\n",
    "\n",
    "###Logistic model fold 1\n",
    "lr = LogisticRegression()\n",
    "lr.fit(X1_train, y1_train)\n",
    "\n",
    "r1_test_m1=r1_test.copy(deep=True)\n",
    "x1_test=r1_test_m1.drop([\"Class\"], axis=1).values #Setting the X to do the split\n",
    "y1_test=r1_test_m1[\"Class\"].values\n",
    "y_pred = lr.predict(x1_test)\n",
    "###Accuracy for the fold 1\n",
    "\n",
    "\n",
    "\n",
    "#Evaluation metrics\n",
    "prec= precision_score(y1_test,y_pred)\n",
    "print(\"precision: \",prec)\n",
    "list2.append(prec)\n",
    "rec= recall_score(y1_test,y_pred)\n",
    "print(\"recall: \", rec)\n",
    "list3.append(rec)\n",
    "f1= f1_score(y1_test,y_pred)\n",
    "print(\"f1-score: \",f1)\n",
    "list4.append(f1)\n",
    "a=accuracy_score(y1_test, y_pred)\n",
    "print(\"Accuracy: \",a)\n",
    "list1.append(a)\n",
    "\n",
    "#printing confusion matrix\n",
    "results = confusion_matrix(y1_test, lr.predict(x1_test)) \n",
    "print ('Confusion Matrix :')\n",
    "print(results) \n",
    "print ('Accuracy Score :',accuracy_score(y1_test, lr.predict(x1_test)) )\n",
    "print ('Report : ')\n",
    "\n",
    "\n",
    "                    \n",
    "\n",
    "\n",
    "#printing the confusion matrix\n",
    "LABELS = ['Normal', 'Fraud']\n",
    "plt.figure(figsize=(5, 5))\n",
    "sns.heatmap(results, xticklabels=LABELS,yticklabels=LABELS, annot=True, fmt='d');\n",
    "plt.title('Confusion Matrix')\n",
    "plt.ylabel('Actual')\n",
    "plt.xlabel('Predicted')\n",
    "plt.show()\n",
    "\n",
    "print(list1)\n",
    "print(list2)\n",
    "print(list3)\n",
    "print(list4)\n"
   ]
  },
  {
   "cell_type": "code",
   "execution_count": 11,
   "metadata": {},
   "outputs": [
    {
     "name": "stdout",
     "output_type": "stream",
     "text": [
      "236925\n",
      "236925\n"
     ]
    },
    {
     "name": "stderr",
     "output_type": "stream",
     "text": [
      "C:\\Users\\priya\\Anaconda3\\lib\\site-packages\\sklearn\\linear_model\\logistic.py:432: FutureWarning: Default solver will be changed to 'lbfgs' in 0.22. Specify a solver to silence this warning.\n",
      "  FutureWarning)\n"
     ]
    },
    {
     "name": "stdout",
     "output_type": "stream",
     "text": [
      "precision:  0.07149758454106281\n",
      "recall:  0.9024390243902439\n",
      "f1-score:  0.1324977618621307\n",
      "Accuracy:  0.9795858175153265\n",
      "Confusion Matrix :\n",
      "[[46424   961]\n",
      " [    8    74]]\n",
      "Accuracy Score : 0.9795858175153265\n",
      "              precision    recall  f1-score   support\n",
      "\n",
      "           0       1.00      0.98      0.99     47385\n",
      "           1       0.07      0.90      0.13        82\n",
      "\n",
      "    accuracy                           0.98     47467\n",
      "   macro avg       0.54      0.94      0.56     47467\n",
      "weighted avg       1.00      0.98      0.99     47467\n",
      "\n"
     ]
    },
    {
     "data": {
      "image/png": "[encoded data removed]",
      "text/plain": [
       "<Figure size 360x360 with 2 Axes>"
      ]
     },
     "metadata": {
      "needs_background": "light"
     },
     "output_type": "display_data"
    },
    {
     "name": "stdout",
     "output_type": "stream",
     "text": [
      "[0.9165104177639202, 0.9795858175153265]\n",
      "[0.017168449863150036, 0.07149758454106281]\n",
      "[0.8414634146341463, 0.9024390243902439]\n",
      "[0.033650329188002925, 0.1324977618621307]\n"
     ]
    }
   ],
   "source": [
    "####Logistic Regression fold 2\n",
    "r2_train_m1=r2_train.copy(deep=True)\n",
    "X2_train=r2_train_m1.drop([\"Class\"], axis=1).values #Setting the X to do the split\n",
    "y2_train=r2_train_m1[\"Class\"].values\n",
    "###SMote function on train function\n",
    "smt = SMOTE()\n",
    "X2_train, y2_train = smt.fit_sample(X2_train, y2_train)\n",
    "print(np.count_nonzero(y2_train== 0))\n",
    "print(np.count_nonzero(y2_train== 1))\n",
    "\n",
    "###Logistic regression model fold 2\n",
    "lr = LogisticRegression()\n",
    "lr.fit(X2_train, y2_train)\n",
    "\n",
    "r2_test_m1=r2_test.copy(deep=True)\n",
    "x2_test=r2_test_m1.drop([\"Class\"], axis=1).values #Setting the X to do the split\n",
    "y2_test=r2_test_m1[\"Class\"].values\n",
    "y2_pred = lr.predict(x2_test)\n",
    "\n",
    "##Accuracy of the fold 2\n",
    "\n",
    "\n",
    "#Evaluation metrics\n",
    "prec= precision_score(y2_test,y2_pred)\n",
    "print(\"precision: \",prec)\n",
    "list2.append(prec)\n",
    "rec= recall_score(y2_test,y2_pred)\n",
    "print(\"recall: \", rec)\n",
    "list3.append(rec)\n",
    "f1= f1_score(y2_test,y2_pred)\n",
    "print(\"f1-score: \",f1)\n",
    "list4.append(f1)\n",
    "b=accuracy_score(y2_test, y2_pred)\n",
    "print(\"Accuracy: \",b)\n",
    "list1.append(b)\n",
    "\n",
    "#printing confusion matrix\n",
    "results = confusion_matrix(y2_test, lr.predict(x2_test)) \n",
    "print ('Confusion Matrix :')\n",
    "print(results) \n",
    "print ('Accuracy Score :',accuracy_score(y2_test, lr.predict(x2_test)) )\n",
    "print(classification_report(y2_test, lr.predict(x2_test)))\n",
    "\n",
    "#printing the confusion matrix\n",
    "LABELS = ['Normal', 'Fraud']\n",
    "plt.figure(figsize=(5, 5))\n",
    "sns.heatmap(results, xticklabels=LABELS,yticklabels=LABELS, annot=True, fmt='d');\n",
    "plt.title('Confusion Matrix')\n",
    "plt.ylabel('Actual')\n",
    "plt.xlabel('Predicted')\n",
    "plt.show()\n",
    "\n",
    "\n",
    "print(list1)\n",
    "print(list2)\n",
    "print(list3)\n",
    "print(list4)\n"
   ]
  },
  {
   "cell_type": "code",
   "execution_count": 12,
   "metadata": {},
   "outputs": [
    {
     "name": "stdout",
     "output_type": "stream",
     "text": [
      "236925\n",
      "236925\n"
     ]
    },
    {
     "name": "stderr",
     "output_type": "stream",
     "text": [
      "C:\\Users\\priya\\Anaconda3\\lib\\site-packages\\sklearn\\linear_model\\logistic.py:432: FutureWarning: Default solver will be changed to 'lbfgs' in 0.22. Specify a solver to silence this warning.\n",
      "  FutureWarning)\n"
     ]
    },
    {
     "name": "stdout",
     "output_type": "stream",
     "text": [
      "precision:  0.0888030888030888\n",
      "recall:  0.8414634146341463\n",
      "f1-score:  0.16065192083818394\n",
      "Accuracy:  0.9848104999262646\n",
      "Confusion Matrix :\n",
      "[[46677   708]\n",
      " [   13    69]]\n",
      "Accuracy Score : 0.9848104999262646\n",
      "              precision    recall  f1-score   support\n",
      "\n",
      "           0       1.00      0.99      0.99     47385\n",
      "           1       0.09      0.84      0.16        82\n",
      "\n",
      "    accuracy                           0.98     47467\n",
      "   macro avg       0.54      0.91      0.58     47467\n",
      "weighted avg       1.00      0.98      0.99     47467\n",
      "\n"
     ]
    },
    {
     "data": {
      "image/png": "[encoded data removed]",
      "text/plain": [
       "<Figure size 360x360 with 2 Axes>"
      ]
     },
     "metadata": {
      "needs_background": "light"
     },
     "output_type": "display_data"
    },
    {
     "name": "stdout",
     "output_type": "stream",
     "text": [
      "0.9848104999262646\n",
      "[0.9165104177639202, 0.9795858175153265, 0.9848104999262646]\n",
      "[0.017168449863150036, 0.07149758454106281, 0.0888030888030888]\n",
      "[0.8414634146341463, 0.9024390243902439, 0.8414634146341463]\n",
      "[0.033650329188002925, 0.1324977618621307, 0.16065192083818394]\n"
     ]
    }
   ],
   "source": [
    "#Logistic regression Fold 3\n",
    "r3_train_m1=r3_train.copy(deep=True)\n",
    "X3_train=r3_train_m1.drop([\"Class\"], axis=1).values #Setting the X to do the split\n",
    "y3_train=r3_train_m1[\"Class\"].values\n",
    "##Smote function on train data \n",
    "smt = SMOTE()\n",
    "X3_train, y3_train = smt.fit_sample(X3_train, y3_train)\n",
    "print(np.count_nonzero(y3_train== 0))\n",
    "print(np.count_nonzero(y3_train== 1))\n",
    "\n",
    "###Logistic Regression Fold 3\n",
    "\n",
    "lr = LogisticRegression()\n",
    "lr.fit(X3_train, y3_train)\n",
    "\n",
    "r3_test_m1=r3_test.copy(deep=True)\n",
    "x3_test=r3_test_m1.drop([\"Class\"], axis=1).values #Setting the X to do the split\n",
    "y3_test=r3_test_m1[\"Class\"].values\n",
    "y3_pred = lr.predict(x3_test)\n",
    "###Accuracy of the fold 3\n",
    "\n",
    "\n",
    "#Evaluation metrics\n",
    "prec= precision_score(y3_test,y3_pred)\n",
    "print(\"precision: \",prec)\n",
    "list2.append(prec)\n",
    "rec= recall_score(y3_test,y3_pred)\n",
    "print(\"recall: \", rec)\n",
    "list3.append(rec)\n",
    "f1= f1_score(y3_test,y3_pred)\n",
    "print(\"f1-score: \",f1)\n",
    "list4.append(f1)\n",
    "c=accuracy_score(y3_test, y3_pred)\n",
    "list1.append(c)\n",
    "print(\"Accuracy: \",c)\n",
    "\n",
    "#printing confusion matrix\n",
    "results = confusion_matrix(y3_test, lr.predict(x3_test)) \n",
    "print ('Confusion Matrix :')\n",
    "print(results) \n",
    "print ('Accuracy Score :',accuracy_score(y3_test, lr.predict(x3_test)) )\n",
    "print(classification_report(y3_test, lr.predict(x3_test)))\n",
    "\n",
    "#printing the confusion matrix\n",
    "LABELS = ['Normal', 'Fraud']\n",
    "plt.figure(figsize=(5, 5))\n",
    "sns.heatmap(results, xticklabels=LABELS,yticklabels=LABELS, annot=True, fmt='d');\n",
    "plt.title('Confusion Matrix')\n",
    "plt.ylabel('Actual')\n",
    "plt.xlabel('Predicted')\n",
    "plt.show()\n",
    "print(c)\n",
    "\n",
    "print(list1)\n",
    "print(list2)\n",
    "print(list3)\n",
    "print(list4)\n"
   ]
  },
  {
   "cell_type": "code",
   "execution_count": 13,
   "metadata": {},
   "outputs": [
    {
     "name": "stdout",
     "output_type": "stream",
     "text": [
      "236925\n",
      "236925\n"
     ]
    },
    {
     "name": "stderr",
     "output_type": "stream",
     "text": [
      "C:\\Users\\priya\\Anaconda3\\lib\\site-packages\\sklearn\\linear_model\\logistic.py:432: FutureWarning: Default solver will be changed to 'lbfgs' in 0.22. Specify a solver to silence this warning.\n",
      "  FutureWarning)\n"
     ]
    },
    {
     "name": "stdout",
     "output_type": "stream",
     "text": [
      "precision:  0.03730272596843615\n",
      "recall:  0.9512195121951219\n",
      "f1-score:  0.07179015186378278\n",
      "Accuracy:  0.9575073208755557\n",
      "Confusion Matrix :\n",
      "[[45372  2013]\n",
      " [    4    78]]\n",
      "Accuracy Score : 0.9575073208755557\n",
      "              precision    recall  f1-score   support\n",
      "\n",
      "           0       1.00      0.96      0.98     47385\n",
      "           1       0.04      0.95      0.07        82\n",
      "\n",
      "    accuracy                           0.96     47467\n",
      "   macro avg       0.52      0.95      0.53     47467\n",
      "weighted avg       1.00      0.96      0.98     47467\n",
      "\n"
     ]
    },
    {
     "data": {
      "image/png": "[encoded data removed]",
      "text/plain": [
       "<Figure size 360x360 with 2 Axes>"
      ]
     },
     "metadata": {
      "needs_background": "light"
     },
     "output_type": "display_data"
    },
    {
     "name": "stdout",
     "output_type": "stream",
     "text": [
      "0.9575073208755557\n",
      "[0.9165104177639202, 0.9795858175153265, 0.9848104999262646]\n",
      "[0.017168449863150036, 0.07149758454106281, 0.0888030888030888, 0.03730272596843615]\n",
      "[0.8414634146341463, 0.9024390243902439, 0.8414634146341463, 0.9512195121951219]\n",
      "[0.033650329188002925, 0.1324977618621307, 0.16065192083818394, 0.07179015186378278, 0.9575073208755557]\n"
     ]
    }
   ],
   "source": [
    "###Logistic Regression of the FOld 4\n",
    "r4_train_m1=r4_train.copy(deep=True)\n",
    "X4_train=r4_train_m1.drop([\"Class\"], axis=1).values #Setting the X to do the split\n",
    "y4_train=r4_train_m1[\"Class\"].values\n",
    "\n",
    "###Smote function on train data\n",
    "smt = SMOTE()\n",
    "X4_train, y4_train = smt.fit_sample(X4_train, y4_train)\n",
    "print(np.count_nonzero(y4_train== 0))\n",
    "print(np.count_nonzero(y4_train== 1))\n",
    "\n",
    "###Logistic regression model fold 4\n",
    "lr = LogisticRegression()\n",
    "lr.fit(X4_train, y4_train)\n",
    "r4_test_m1=r4_test.copy(deep=True)\n",
    "x4_test=r4_test_m1.drop([\"Class\"], axis=1).values #Setting the X to do the split\n",
    "y4_test=r4_test_m1[\"Class\"].values\n",
    "y4_pred = lr.predict(x4_test)\n",
    "##Accuracy of Fold 4\n",
    "#d=accuracy_score(y4_test, y4_pred)\n",
    "#print(\"accuracy for the model is: \",d)\n",
    "#list(d)\n",
    "\n",
    "#Evaluation metrics\n",
    "prec= precision_score(y4_test,y4_pred)\n",
    "print(\"precision: \",prec)\n",
    "list2.append(prec)\n",
    "rec= recall_score(y4_test,y4_pred)\n",
    "print(\"recall: \", rec)\n",
    "list3.append(rec)\n",
    "f1= f1_score(y4_test,y4_pred)\n",
    "print(\"f1-score: \",f1)\n",
    "list4.append(f1)\n",
    "d=accuracy_score(y4_test, y4_pred)\n",
    "print(\"Accuracy: \",d)\n",
    "list4.append(d)\n",
    "\n",
    "\n",
    "#printing confusion matrix\n",
    "results = confusion_matrix(y4_test, lr.predict(x4_test)) \n",
    "print ('Confusion Matrix :')\n",
    "print(results) \n",
    "print ('Accuracy Score :',accuracy_score(y4_test, lr.predict(x4_test)) )\n",
    "print(classification_report(y4_test, lr.predict(x4_test)))\n",
    "\n",
    "#printing the confusion matrix\n",
    "LABELS = ['Normal', 'Fraud']\n",
    "plt.figure(figsize=(5, 5))\n",
    "sns.heatmap(results, xticklabels=LABELS,yticklabels=LABELS, annot=True, fmt='d');\n",
    "plt.title('Confusion Matrix')\n",
    "plt.ylabel('Actual')\n",
    "plt.xlabel('Predicted')\n",
    "plt.show()\n",
    "print(d)\n",
    "\n",
    "print(list1)\n",
    "print(list2)\n",
    "print(list3)\n",
    "print(list4)"
   ]
  },
  {
   "cell_type": "code",
   "execution_count": 14,
   "metadata": {},
   "outputs": [
    {
     "name": "stdout",
     "output_type": "stream",
     "text": [
      "236925\n",
      "236925\n"
     ]
    },
    {
     "name": "stderr",
     "output_type": "stream",
     "text": [
      "C:\\Users\\priya\\Anaconda3\\lib\\site-packages\\sklearn\\linear_model\\logistic.py:432: FutureWarning: Default solver will be changed to 'lbfgs' in 0.22. Specify a solver to silence this warning.\n",
      "  FutureWarning)\n"
     ]
    },
    {
     "name": "stdout",
     "output_type": "stream",
     "text": [
      "precision:  0.06181202370872142\n",
      "recall:  0.8902439024390244\n",
      "f1-score:  0.11559778305621536\n",
      "Accuracy:  0.9764678618829924\n",
      "Confusion Matrix :\n",
      "[[46277  1108]\n",
      " [    9    73]]\n",
      "Accuracy Score : 0.9764678618829924\n",
      "              precision    recall  f1-score   support\n",
      "\n",
      "           0       1.00      0.98      0.99     47385\n",
      "           1       0.06      0.89      0.12        82\n",
      "\n",
      "    accuracy                           0.98     47467\n",
      "   macro avg       0.53      0.93      0.55     47467\n",
      "weighted avg       1.00      0.98      0.99     47467\n",
      "\n"
     ]
    },
    {
     "data": {
      "image/png": "[encoded data removed]",
      "text/plain": [
       "<Figure size 360x360 with 2 Axes>"
      ]
     },
     "metadata": {
      "needs_background": "light"
     },
     "output_type": "display_data"
    },
    {
     "name": "stdout",
     "output_type": "stream",
     "text": [
      "[0.9165104177639202, 0.9795858175153265, 0.9848104999262646, 0.9764678618829924]\n",
      "[0.017168449863150036, 0.07149758454106281, 0.0888030888030888, 0.03730272596843615, 0.06181202370872142]\n",
      "[0.8414634146341463, 0.9024390243902439, 0.8414634146341463, 0.9512195121951219, 0.8902439024390244]\n",
      "[0.033650329188002925, 0.1324977618621307, 0.16065192083818394, 0.07179015186378278, 0.9575073208755557, 0.11559778305621536]\n"
     ]
    }
   ],
   "source": [
    "#Logistic regression of fold 5\n",
    "r5_train_m1=r5_train.copy(deep=True)\n",
    "X5_train=r5_train_m1.drop([\"Class\"], axis=1).values #Setting the X to do the split\n",
    "y5_train=r5_train_m1[\"Class\"].values\n",
    "\n",
    "###Smote function on train data\n",
    "smt = SMOTE()\n",
    "X5_train, y5_train = smt.fit_sample(X5_train, y5_train)\n",
    "print(np.count_nonzero(y5_train== 0))\n",
    "print(np.count_nonzero(y5_train== 1))\n",
    "\n",
    "##Logistic model fold 5\n",
    "lr = LogisticRegression()\n",
    "lr.fit(X5_train, y5_train)\n",
    "\n",
    "r5_test_m1=r5_test.copy(deep=True)\n",
    "x5_test=r5_test_m1.drop([\"Class\"], axis=1).values #Setting the X to do the split\n",
    "y5_test=r5_test_m1[\"Class\"].values\n",
    "y5_pred = lr.predict(x5_test)\n",
    "\n",
    "\n",
    "\n",
    "#Evaluation metrics\n",
    "prec= precision_score(y5_test,y5_pred)\n",
    "print(\"precision: \",prec)\n",
    "list2.append(prec)\n",
    "rec= recall_score(y5_test,y5_pred)\n",
    "print(\"recall: \", rec)\n",
    "list3.append(rec)\n",
    "f1= f1_score(y5_test,y5_pred)\n",
    "print(\"f1-score: \",f1)\n",
    "list4.append(f1)\n",
    "e=accuracy_score(y5_test, y5_pred)\n",
    "print(\"Accuracy: \",e)\n",
    "list1.append(e)\n",
    "\n",
    "#printing confusion matrix\n",
    "results = confusion_matrix(y5_test, lr.predict(x5_test)) \n",
    "print ('Confusion Matrix :')\n",
    "print(results) \n",
    "print ('Accuracy Score :',accuracy_score(y5_test, lr.predict(x5_test)) )\n",
    "print(classification_report(y5_test, lr.predict(x5_test)))\n",
    "\n",
    "#printing the confusion matrix\n",
    "LABELS = ['Normal', 'Fraud']\n",
    "plt.figure(figsize=(5, 5))\n",
    "sns.heatmap(results, xticklabels=LABELS,yticklabels=LABELS, annot=True, fmt='d');\n",
    "plt.title('Confusion Matrix')\n",
    "plt.ylabel('Actual')\n",
    "plt.xlabel('Predicted')\n",
    "plt.show()\n",
    "\n",
    "print(list1)\n",
    "print(list2)\n",
    "print(list3)\n",
    "print(list4)"
   ]
  },
  {
   "cell_type": "code",
   "execution_count": 15,
   "metadata": {},
   "outputs": [
    {
     "name": "stdout",
     "output_type": "stream",
     "text": [
      "236925\n",
      "236925\n"
     ]
    },
    {
     "name": "stderr",
     "output_type": "stream",
     "text": [
      "C:\\Users\\priya\\Anaconda3\\lib\\site-packages\\sklearn\\linear_model\\logistic.py:432: FutureWarning: Default solver will be changed to 'lbfgs' in 0.22. Specify a solver to silence this warning.\n",
      "  FutureWarning)\n"
     ]
    },
    {
     "name": "stdout",
     "output_type": "stream",
     "text": [
      "precision:  0.1056547619047619\n",
      "recall:  0.8658536585365854\n",
      "f1-score:  0.18832891246684352\n",
      "Accuracy:  0.987106832114943\n",
      "Confusion Matrix :\n",
      "[[46784   601]\n",
      " [   11    71]]\n",
      "              precision    recall  f1-score   support\n",
      "\n",
      "           0       1.00      0.99      0.99     47385\n",
      "           1       0.11      0.87      0.19        82\n",
      "\n",
      "    accuracy                           0.99     47467\n",
      "   macro avg       0.55      0.93      0.59     47467\n",
      "weighted avg       1.00      0.99      0.99     47467\n",
      "\n"
     ]
    },
    {
     "data": {
      "image/png": "[encoded data removed]",
      "text/plain": [
       "<Figure size 360x360 with 2 Axes>"
      ]
     },
     "metadata": {
      "needs_background": "light"
     },
     "output_type": "display_data"
    },
    {
     "name": "stdout",
     "output_type": "stream",
     "text": [
      "[0.9165104177639202, 0.9795858175153265, 0.9848104999262646, 0.9764678618829924, 0.987106832114943]\n",
      "[0.017168449863150036, 0.07149758454106281, 0.0888030888030888, 0.03730272596843615, 0.06181202370872142, 0.1056547619047619]\n",
      "[0.8414634146341463, 0.9024390243902439, 0.8414634146341463, 0.9512195121951219, 0.8902439024390244, 0.8658536585365854]\n",
      "[0.033650329188002925, 0.1324977618621307, 0.16065192083818394, 0.07179015186378278, 0.9575073208755557, 0.11559778305621536, 0.18832891246684352]\n"
     ]
    }
   ],
   "source": [
    "###Logistic regression of fold 6\n",
    "r6_train_m1=r6_train.copy(deep=True)\n",
    "X6_train=r6_train_m1.drop([\"Class\"], axis=1).values #Setting the X to do the split\n",
    "y6_train=r6_train_m1[\"Class\"].values\n",
    "\n",
    "###Smote function on the train function\n",
    "smt = SMOTE()\n",
    "X6_train, y6_train = smt.fit_sample(X6_train, y6_train)\n",
    "print(np.count_nonzero(y6_train== 0))\n",
    "print(np.count_nonzero(y6_train== 1))\n",
    "\n",
    "##Logistic Regression on fold 6\n",
    "lr = LogisticRegression()\n",
    "lr.fit(X6_train, y6_train)\n",
    "\n",
    "r6_test_m1=r6_test.copy(deep=True)\n",
    "x6_test=r6_test_m1.drop([\"Class\"], axis=1).values #Setting the X to do the split\n",
    "y6_test=r6_test_m1[\"Class\"].values\n",
    "y6_pred = lr.predict(x6_test)\n",
    "\n",
    "\n",
    "#Evaluation metrics\n",
    "prec= precision_score(y6_test,y6_pred)\n",
    "print(\"precision: \",prec)\n",
    "list2.append(prec)\n",
    "rec= recall_score(y6_test,y6_pred)\n",
    "print(\"recall: \", rec)\n",
    "list3.append(rec)\n",
    "f1= f1_score(y6_test,y6_pred)\n",
    "print(\"f1-score: \",f1)\n",
    "list4.append(f1)\n",
    "f=accuracy_score(y6_test, y6_pred)\n",
    "print(\"Accuracy: \",f)\n",
    "list1.append(f)\n",
    "\n",
    "#printing confusion matrix\n",
    "results = confusion_matrix(y6_test, lr.predict(x6_test)) \n",
    "print ('Confusion Matrix :')\n",
    "print(results) \n",
    "print((classification_report(y6_test, lr.predict(x6_test))))\n",
    "\n",
    "\n",
    "#printing the confusion matrix\n",
    "LABELS = ['Normal', 'Fraud']\n",
    "plt.figure(figsize=(5, 5))\n",
    "sns.heatmap(results, xticklabels=LABELS,yticklabels=LABELS, annot=True, fmt='d');\n",
    "plt.title('Confusion Matrix')\n",
    "plt.ylabel('Actual')\n",
    "plt.xlabel('Predicted')\n",
    "plt.show()\n",
    "\n",
    "print(list1)\n",
    "print(list2)\n",
    "print(list3)\n",
    "print(list4)"
   ]
  },
  {
   "cell_type": "code",
   "execution_count": 16,
   "metadata": {},
   "outputs": [
    {
     "name": "stdout",
     "output_type": "stream",
     "text": [
      "Accuracy of the model is:  0.9688962858406893\n",
      "Precision of the model is:  0.06370643913153685\n",
      "Recall of the model is:  0.8821138211382114\n",
      "f-1 score of the model is:  0.23714631145010212\n"
     ]
    }
   ],
   "source": [
    "###Logistic regression means of 6 folds ,Final result\n",
    "from statistics import mean\n",
    "accuracy=mean(list1)\n",
    "print(\"Accuracy of the model is: \",accuracy)\n",
    "precision=mean(list2)\n",
    "print(\"Precision of the model is: \",precision)\n",
    "recall=mean(list3)\n",
    "print(\"Recall of the model is: \",recall)\n",
    "y=mean(list4)\n",
    "print(\"f-1 score of the model is: \",y)"
   ]
  },
  {
   "cell_type": "code",
   "execution_count": 17,
   "metadata": {},
   "outputs": [
    {
     "name": "stdout",
     "output_type": "stream",
     "text": [
      "No of Valid Trasaction after SMOTE:  236925\n",
      "No of Fraud Trasaction after SMOTE:  236925\n",
      "precision:  0.18501170960187355\n",
      "recall:  0.9634146341463414\n",
      "f1-score:  0.9950979123991036\n",
      "Accuracy:  0.9926053890070997\n",
      "Confusion Matrix :\n",
      "[[47037   348]\n",
      " [    3    79]]\n"
     ]
    },
    {
     "data": {
      "image/png": "[encoded data removed]",
      "text/plain": [
       "<Figure size 360x360 with 2 Axes>"
      ]
     },
     "metadata": {
      "needs_background": "light"
     },
     "output_type": "display_data"
    },
    {
     "name": "stdout",
     "output_type": "stream",
     "text": [
      "[0.9926053890070997]\n",
      "[0.18501170960187355]\n",
      "[0.9634146341463414]\n",
      "[0.9950979123991036]\n"
     ]
    }
   ],
   "source": [
    "#KKN model FOLD 1\n",
    "##Create list for conacatenate results of accuracy,precision,recall and f1-score\n",
    "list5=[] #for average\n",
    "list6=[] #for precision\n",
    "list7=[] #for recall\n",
    "list8=[] #f1-score\n",
    "\n",
    "###Train function\n",
    "r1_train_m1=r1_train.copy(deep=True)\n",
    "X1_train=r1_train_m1.drop([\"Class\"], axis=1).values #Setting the X to do the split\n",
    "y1_train=r1_train_m1[\"Class\"].values\n",
    "\n",
    "#from imblearn.over_sampling import SMOTE\n",
    "smt = SMOTE()\n",
    "X1_train, y1_train = smt.fit_sample(X1_train, y1_train)\n",
    "print(\"No of Valid Trasaction after SMOTE: \",np.count_nonzero(y1_train== 0))\n",
    "print(\"No of Fraud Trasaction after SMOTE: \",np.count_nonzero(y1_train== 1))\n",
    "\n",
    "##Knn model\n",
    "from sklearn.neighbors import KNeighborsClassifier\n",
    "knn = KNeighborsClassifier(n_neighbors = 1)\n",
    "knn = KNeighborsClassifier(n_neighbors=5, metric='euclidean')\n",
    "model_knn=knn.fit(X1_train, y1_train)\n",
    "\n",
    "\n",
    "r1_test_m1=r1_test.copy(deep=True)\n",
    "x1_test=r1_test_m1.drop([\"Class\"], axis=1).values #Setting the X to do the split\n",
    "y1_test=r1_test_m1[\"Class\"].values\n",
    "y_pred = model_knn.predict(x1_test)\n",
    "\n",
    "\n",
    "\n",
    "\n",
    "#Evaluation metrics\n",
    "prec= precision_score(y1_test,y_pred)\n",
    "print(\"precision: \", prec)\n",
    "list6.append(prec)\n",
    "rec= recall_score(y1_test,y_pred)\n",
    "print(\"recall: \", rec)\n",
    "list7.append(rec)\n",
    "score2 = f1_score(y1_test,y_pred,average='weighted')\n",
    "print(\"f1-score: \",score2)\n",
    "list8.append(score2)\n",
    "a=accuracy_score(y1_test, y_pred)\n",
    "print(\"Accuracy: \",a)\n",
    "list5.append(a)\n",
    "\n",
    "\n",
    "#printing confusion matrix\n",
    "results = confusion_matrix(y1_test, model_knn.predict(x1_test)) \n",
    "print ('Confusion Matrix :')\n",
    "print(results) \n",
    "\n",
    "\n",
    "\n",
    "\n",
    "#printing the confusion matrix\n",
    "LABELS = ['Normal', 'Fraud']\n",
    "plt.figure(figsize=(5, 5))\n",
    "sns.heatmap(results, xticklabels=LABELS,yticklabels=LABELS, annot=True, fmt='d');\n",
    "plt.title('Confusion Matrix')\n",
    "plt.ylabel('Actual')\n",
    "plt.xlabel('Predicted')\n",
    "plt.show()\n",
    "\n",
    "print(list5)\n",
    "print(list6)\n",
    "print(list7)\n",
    "print(list8)"
   ]
  },
  {
   "cell_type": "code",
   "execution_count": 18,
   "metadata": {},
   "outputs": [
    {
     "name": "stdout",
     "output_type": "stream",
     "text": [
      "236925\n",
      "236925\n",
      "precision:  0.45806451612903226\n",
      "recall:  0.8658536585365854\n",
      "f1-score:  0.9983060691617226\n",
      "Confusion Matrix :\n",
      "[[47301    84]\n",
      " [   11    71]]\n",
      "              precision    recall  f1-score   support\n",
      "\n",
      "           0       1.00      1.00      1.00     47385\n",
      "           1       0.46      0.87      0.60        82\n",
      "\n",
      "    accuracy                           1.00     47467\n",
      "   macro avg       0.73      0.93      0.80     47467\n",
      "weighted avg       1.00      1.00      1.00     47467\n",
      "\n"
     ]
    },
    {
     "data": {
      "image/png": "[encoded data removed]",
      "text/plain": [
       "<Figure size 360x360 with 2 Axes>"
      ]
     },
     "metadata": {
      "needs_background": "light"
     },
     "output_type": "display_data"
    },
    {
     "name": "stdout",
     "output_type": "stream",
     "text": [
      "[0.9926053890070997, 0.9979986095603262]\n",
      "[0.18501170960187355, 0.45806451612903226]\n",
      "[0.9634146341463414, 0.8658536585365854]\n",
      "[0.9950979123991036, 0.9983060691617226]\n"
     ]
    }
   ],
   "source": [
    "####KNN fold 2\n",
    "r2_train_m2=r2_train.copy(deep=True)\n",
    "X2_train=r2_train_m2.drop([\"Class\"], axis=1).values #Setting the X to do the split\n",
    "y2_train=r2_train_m2[\"Class\"].values\n",
    "###SMote function on train function\n",
    "smt = SMOTE()\n",
    "X2_train, y2_train = smt.fit_sample(X2_train, y2_train)\n",
    "print(np.count_nonzero(y2_train== 0))\n",
    "print(np.count_nonzero(y2_train== 1))\n",
    "\n",
    "###KNN model fold 2\n",
    "knn = KNeighborsClassifier(n_neighbors=5, metric='euclidean')\n",
    "model2_knn=knn.fit(X2_train, y2_train)\n",
    "\n",
    "\n",
    "r2_test_m1=r2_test.copy(deep=True)\n",
    "x2_test=r2_test_m1.drop([\"Class\"], axis=1).values #Setting the X to do the split\n",
    "y2_test=r2_test_m1[\"Class\"].values\n",
    "y2_pred = model2_knn.predict(x2_test)\n",
    "\n",
    "##Accuracy of the fold 2\n",
    "b=accuracy_score(y2_test, y2_pred)\n",
    "list5.append(b)\n",
    "\n",
    "#Evaluation metrics\n",
    "prec= precision_score(y2_test,y2_pred)\n",
    "print(\"precision: \",prec)\n",
    "list6.append(prec)\n",
    "rec= recall_score(y2_test,y2_pred)\n",
    "print(\"recall: \", rec)\n",
    "list7.append(rec)\n",
    "z= f1_score(y2_test,y2_pred,average='weighted')\n",
    "print(\"f1-score: \",z)\n",
    "list8.append(z)\n",
    "\n",
    "#printing confusion matrix\n",
    "results = confusion_matrix(y2_test, model2_knn.predict(x2_test)) \n",
    "print ('Confusion Matrix :')\n",
    "print(results) \n",
    "print(classification_report(y2_test, model2_knn.predict(x2_test)))\n",
    "\n",
    "#printing the confusion matrix\n",
    "LABELS = ['Normal', 'Fraud']\n",
    "plt.figure(figsize=(5, 5))\n",
    "sns.heatmap(results, xticklabels=LABELS,yticklabels=LABELS, annot=True, fmt='d');\n",
    "plt.title('Confusion Matrix')\n",
    "plt.ylabel('Actual')\n",
    "plt.xlabel('Predicted')\n",
    "plt.show()\n",
    "\n",
    "\n",
    "print(list5)\n",
    "print(list6)\n",
    "print(list7)\n",
    "print(list8)\n"
   ]
  },
  {
   "cell_type": "code",
   "execution_count": 19,
   "metadata": {},
   "outputs": [
    {
     "name": "stdout",
     "output_type": "stream",
     "text": [
      "236925\n",
      "236925\n",
      "precision:  0.5\n",
      "recall:  0.7317073170731707\n",
      "f1-score:  0.9984346266857179\n",
      "Accuracy:  0.9982724840415447\n",
      "Confusion Matrix :\n",
      "[[47325    60]\n",
      " [   22    60]]\n",
      "              precision    recall  f1-score   support\n",
      "\n",
      "           0       1.00      1.00      1.00     47385\n",
      "           1       0.50      0.73      0.59        82\n",
      "\n",
      "    accuracy                           1.00     47467\n",
      "   macro avg       0.75      0.87      0.80     47467\n",
      "weighted avg       1.00      1.00      1.00     47467\n",
      "\n"
     ]
    },
    {
     "data": {
      "image/png": "[encoded data removed]",
      "text/plain": [
       "<Figure size 360x360 with 2 Axes>"
      ]
     },
     "metadata": {
      "needs_background": "light"
     },
     "output_type": "display_data"
    },
    {
     "name": "stdout",
     "output_type": "stream",
     "text": [
      "0.9982724840415447\n",
      "[0.9926053890070997, 0.9979986095603262, 0.9982724840415447]\n",
      "[0.18501170960187355, 0.45806451612903226, 0.5]\n",
      "[0.9634146341463414, 0.8658536585365854, 0.7317073170731707]\n",
      "[0.9950979123991036, 0.9983060691617226, 0.9984346266857179]\n"
     ]
    }
   ],
   "source": [
    "#KNN Fold 3\n",
    "r3_train_m1=r3_train.copy(deep=True)\n",
    "X3_train=r3_train_m1.drop([\"Class\"], axis=1).values #Setting the X to do the split\n",
    "y3_train=r3_train_m1[\"Class\"].values\n",
    "##Smote function on train data \n",
    "smt = SMOTE()\n",
    "X3_train, y3_train = smt.fit_sample(X3_train, y3_train)\n",
    "print(np.count_nonzero(y3_train== 0))\n",
    "print(np.count_nonzero(y3_train== 1))\n",
    "\n",
    "##KNN model fold 3\n",
    "knn = KNeighborsClassifier(n_neighbors=5, metric='euclidean')\n",
    "model3_knn=knn.fit(X3_train, y3_train)\n",
    "\n",
    "r3_test_m3=r3_test.copy(deep=True)\n",
    "x3_test=r3_test_m3.drop([\"Class\"], axis=1).values #Setting the X to do the split\n",
    "y3_test=r3_test_m3[\"Class\"].values\n",
    "y3_pred = model3_knn.predict(x3_test)\n",
    "###Accuracy of the fold 3\n",
    "\n",
    "#Evaluation metrics\n",
    "prec= precision_score(y3_test,y3_pred)\n",
    "print(\"precision: \",prec)\n",
    "list6.append(prec)\n",
    "rec= recall_score(y3_test,y3_pred)\n",
    "print(\"recall: \", rec)\n",
    "list7.append(rec)\n",
    "z= f1_score(y3_test,y3_pred,average='weighted')\n",
    "print(\"f1-score: \",z)\n",
    "list8.append(z)\n",
    "c=accuracy_score(y3_test, y3_pred)\n",
    "list5.append(c)\n",
    "print(\"Accuracy: \",c)\n",
    "\n",
    "#printing confusion matrix\n",
    "results = confusion_matrix(y3_test, model3_knn.predict(x3_test)) \n",
    "print ('Confusion Matrix :')\n",
    "print(results) \n",
    "print(classification_report(y3_test, model3_knn.predict(x3_test)))\n",
    "\n",
    "#printing the confusion matrix\n",
    "LABELS = ['Normal', 'Fraud']\n",
    "plt.figure(figsize=(5, 5))\n",
    "sns.heatmap(results, xticklabels=LABELS,yticklabels=LABELS, annot=True, fmt='d');\n",
    "plt.title('Confusion Matrix')\n",
    "plt.ylabel('Actual')\n",
    "plt.xlabel('Predicted')\n",
    "plt.show()\n",
    "print(c)\n",
    "\n",
    "print(list5)\n",
    "print(list6)\n",
    "print(list7)\n",
    "print(list8)\n"
   ]
  },
  {
   "cell_type": "code",
   "execution_count": 20,
   "metadata": {},
   "outputs": [
    {
     "name": "stdout",
     "output_type": "stream",
     "text": [
      "236925\n",
      "236925\n",
      "precision:  0.12408759124087591\n",
      "recall:  0.8292682926829268\n",
      "f1-score:  0.9934160794915392\n",
      "accuracy:  0.9895927697136958\n",
      "Confusion Matrix :\n",
      "[[46905   480]\n",
      " [   14    68]]\n",
      "              precision    recall  f1-score   support\n",
      "\n",
      "           0       1.00      0.99      0.99     47385\n",
      "           1       0.12      0.83      0.22        82\n",
      "\n",
      "    accuracy                           0.99     47467\n",
      "   macro avg       0.56      0.91      0.61     47467\n",
      "weighted avg       1.00      0.99      0.99     47467\n",
      "\n"
     ]
    },
    {
     "data": {
      "image/png": "[encoded data removed]",
      "text/plain": [
       "<Figure size 360x360 with 2 Axes>"
      ]
     },
     "metadata": {
      "needs_background": "light"
     },
     "output_type": "display_data"
    },
    {
     "name": "stdout",
     "output_type": "stream",
     "text": [
      "0.9895927697136958\n",
      "[0.9926053890070997, 0.9979986095603262, 0.9982724840415447, 0.9895927697136958]\n",
      "[0.18501170960187355, 0.45806451612903226, 0.5, 0.12408759124087591]\n",
      "[0.9634146341463414, 0.8658536585365854, 0.7317073170731707, 0.8292682926829268]\n",
      "[0.9950979123991036, 0.9983060691617226, 0.9984346266857179, 0.9934160794915392]\n"
     ]
    }
   ],
   "source": [
    "###KNNof the FOld 4\n",
    "r4_train_m1=r4_train.copy(deep=True)\n",
    "X4_train=r4_train_m1.drop([\"Class\"], axis=1).values #Setting the X to do the split\n",
    "y4_train=r4_train_m1[\"Class\"].values\n",
    "\n",
    "###Smote function on train data\n",
    "smt = SMOTE()\n",
    "X4_train, y4_train = smt.fit_sample(X4_train, y4_train)\n",
    "print(np.count_nonzero(y4_train== 0))\n",
    "print(np.count_nonzero(y4_train== 1))\n",
    "\n",
    "##KNN model fold 4\n",
    "knn = KNeighborsClassifier(n_neighbors=5, metric='euclidean')\n",
    "model4_knn=knn.fit(X4_train, y4_train)\n",
    "\n",
    "r4_test_m1=r4_test.copy(deep=True)\n",
    "x4_test=r4_test_m1.drop([\"Class\"], axis=1).values #Setting the X to do the split\n",
    "y4_test=r4_test_m1[\"Class\"].values\n",
    "y4_pred = model4_knn.predict(x4_test)\n",
    "\n",
    "##Accuracy of Fold 4\n",
    "\n",
    "\n",
    "#Evaluation metrics\n",
    "prec= precision_score(y4_test,y4_pred)\n",
    "print(\"precision: \",prec)\n",
    "list6.append(prec)\n",
    "rec= recall_score(y4_test,y4_pred)\n",
    "print(\"recall: \", rec)\n",
    "list7.append(rec)\n",
    "z= f1_score(y4_test,y4_pred,average='weighted')\n",
    "print(\"f1-score: \",z)\n",
    "list8.append(z)\n",
    "d=accuracy_score(y4_test, y4_pred)\n",
    "print(\"accuracy: \",d)\n",
    "list5.append(d)\n",
    "\n",
    "#printing confusion matrix\n",
    "results = confusion_matrix(y4_test,model4_knn.predict(x4_test)) \n",
    "print ('Confusion Matrix :')\n",
    "print(results) \n",
    "print(classification_report(y4_test,model4_knn.predict(x4_test)))\n",
    "\n",
    "#printing the confusion matrix\n",
    "LABELS = ['Normal', 'Fraud']\n",
    "plt.figure(figsize=(5, 5))\n",
    "sns.heatmap(results, xticklabels=LABELS,yticklabels=LABELS, annot=True, fmt='d');\n",
    "plt.title('Confusion Matrix')\n",
    "plt.ylabel('Actual')\n",
    "plt.xlabel('Predicted')\n",
    "plt.show()\n",
    "print(d)\n",
    "\n",
    "print(list5)\n",
    "print(list6)\n",
    "print(list7)\n",
    "print(list8)"
   ]
  },
  {
   "cell_type": "code",
   "execution_count": 21,
   "metadata": {},
   "outputs": [
    {
     "name": "stdout",
     "output_type": "stream",
     "text": [
      "236925\n",
      "236925\n",
      "precision:  0.4892086330935252\n",
      "recall:  0.8292682926829268\n",
      "f1-score:  0.9984396730611007\n",
      "Accuracy:  0.9982092822381865\n",
      "Confusion Matrix :\n",
      "[[47314    71]\n",
      " [   14    68]]\n",
      "              precision    recall  f1-score   support\n",
      "\n",
      "           0       1.00      1.00      1.00     47385\n",
      "           1       0.49      0.83      0.62        82\n",
      "\n",
      "    accuracy                           1.00     47467\n",
      "   macro avg       0.74      0.91      0.81     47467\n",
      "weighted avg       1.00      1.00      1.00     47467\n",
      "\n"
     ]
    },
    {
     "data": {
      "image/png": "[encoded data removed]",
      "text/plain": [
       "<Figure size 360x360 with 2 Axes>"
      ]
     },
     "metadata": {
      "needs_background": "light"
     },
     "output_type": "display_data"
    },
    {
     "name": "stdout",
     "output_type": "stream",
     "text": [
      "[0.9926053890070997, 0.9979986095603262, 0.9982724840415447, 0.9895927697136958, 0.9982092822381865]\n",
      "[0.18501170960187355, 0.45806451612903226, 0.5, 0.12408759124087591, 0.4892086330935252]\n",
      "[0.9634146341463414, 0.8658536585365854, 0.7317073170731707, 0.8292682926829268, 0.8292682926829268]\n",
      "[0.9950979123991036, 0.9983060691617226, 0.9984346266857179, 0.9934160794915392, 0.9984396730611007]\n"
     ]
    }
   ],
   "source": [
    "#KNN of fold 5\n",
    "r5_train_m1=r5_train.copy(deep=True)\n",
    "X5_train=r5_train_m1.drop([\"Class\"], axis=1).values #Setting the X to do the split\n",
    "y5_train=r5_train_m1[\"Class\"].values\n",
    "\n",
    "###Smote function on train data\n",
    "smt = SMOTE()\n",
    "X5_train, y5_train = smt.fit_sample(X5_train, y5_train)\n",
    "print(np.count_nonzero(y5_train== 0))\n",
    "print(np.count_nonzero(y5_train== 1))\n",
    "\n",
    "##KNN model fold 5\n",
    "knn = KNeighborsClassifier(n_neighbors=5, metric='euclidean')\n",
    "model5_knn=knn.fit(X5_train, y5_train)\n",
    "\n",
    "\n",
    "r5_test_m1=r5_test.copy(deep=True)\n",
    "x5_test=r5_test_m1.drop([\"Class\"], axis=1).values #Setting the X to do the split\n",
    "y5_test=r5_test_m1[\"Class\"].values\n",
    "y5_pred = model5_knn.predict(x5_test)\n",
    "\n",
    "\n",
    "\n",
    "#Evaluation metrics\n",
    "prec= precision_score(y5_test,y5_pred)\n",
    "print(\"precision: \",prec)\n",
    "list6.append(prec)\n",
    "rec= recall_score(y5_test,y5_pred)\n",
    "print(\"recall: \", rec)\n",
    "list7.append(rec)\n",
    "z= f1_score(y5_test,y5_pred,average='weighted')\n",
    "print(\"f1-score: \",z)\n",
    "list8.append(z)\n",
    "e=accuracy_score(y5_test, y5_pred)\n",
    "print(\"Accuracy: \",e)\n",
    "list5.append(e)\n",
    "\n",
    "#printing confusion matrix\n",
    "results = confusion_matrix(y5_test, model5_knn.predict(x5_test)) \n",
    "print ('Confusion Matrix :')\n",
    "print(results) \n",
    "print(classification_report(y5_test, model5_knn.predict(x5_test)))\n",
    "\n",
    "#printing the confusion matrix\n",
    "LABELS = ['Normal', 'Fraud']\n",
    "plt.figure(figsize=(5, 5))\n",
    "sns.heatmap(results, xticklabels=LABELS,yticklabels=LABELS, annot=True, fmt='d');\n",
    "plt.title('Confusion Matrix')\n",
    "plt.ylabel('Actual')\n",
    "plt.xlabel('Predicted')\n",
    "plt.show()\n",
    "\n",
    "print(list5)\n",
    "print(list6)\n",
    "print(list7)\n",
    "print(list8)"
   ]
  },
  {
   "cell_type": "code",
   "execution_count": 22,
   "metadata": {},
   "outputs": [
    {
     "name": "stdout",
     "output_type": "stream",
     "text": [
      "236925\n",
      "236925\n",
      "precision:  0.6504854368932039\n",
      "recall:  0.8170731707317073\n",
      "f1-score:  0.9989864314749174\n",
      "Accuracy:  0.9989255693429119\n",
      "Confusion Matrix :\n",
      "[[47349    36]\n",
      " [   15    67]]\n",
      "              precision    recall  f1-score   support\n",
      "\n",
      "           0       1.00      1.00      1.00     47385\n",
      "           1       0.65      0.82      0.72        82\n",
      "\n",
      "    accuracy                           1.00     47467\n",
      "   macro avg       0.83      0.91      0.86     47467\n",
      "weighted avg       1.00      1.00      1.00     47467\n",
      "\n"
     ]
    },
    {
     "data": {
      "image/png": "[encoded data removed]",
      "text/plain": [
       "<Figure size 360x360 with 2 Axes>"
      ]
     },
     "metadata": {
      "needs_background": "light"
     },
     "output_type": "display_data"
    },
    {
     "name": "stdout",
     "output_type": "stream",
     "text": [
      "[0.9926053890070997, 0.9979986095603262, 0.9982724840415447, 0.9895927697136958, 0.9982092822381865, 0.9989255693429119]\n",
      "[0.18501170960187355, 0.45806451612903226, 0.5, 0.12408759124087591, 0.4892086330935252, 0.6504854368932039]\n",
      "[0.9634146341463414, 0.8658536585365854, 0.7317073170731707, 0.8292682926829268, 0.8292682926829268, 0.8170731707317073]\n",
      "[0.9950979123991036, 0.9983060691617226, 0.9984346266857179, 0.9934160794915392, 0.9984396730611007, 0.9989864314749174]\n"
     ]
    }
   ],
   "source": [
    "###KNN of fold 6\n",
    "r6_train_m1=r6_train.copy(deep=True)\n",
    "X6_train=r6_train_m1.drop([\"Class\"], axis=1).values #Setting the X to do the split\n",
    "y6_train=r6_train_m1[\"Class\"].values\n",
    "\n",
    "###Smote function on the train function\n",
    "smt = SMOTE()\n",
    "X6_train, y6_train = smt.fit_sample(X6_train, y6_train)\n",
    "print(np.count_nonzero(y6_train== 0))\n",
    "print(np.count_nonzero(y6_train== 1))\n",
    "\n",
    "##KNN model fold 6\n",
    "knn = KNeighborsClassifier(n_neighbors=5, metric='euclidean')\n",
    "model6_knn=knn.fit(X6_train, y6_train)\n",
    "\n",
    "r6_test_m1=r6_test.copy(deep=True)\n",
    "x6_test=r6_test_m1.drop([\"Class\"], axis=1).values #Setting the X to do the split\n",
    "y6_test=r6_test_m1[\"Class\"].values\n",
    "y6_pred = model6_knn.predict(x6_test)\n",
    "\n",
    "#Evaluation metrics\n",
    "prec= precision_score(y6_test,y6_pred)\n",
    "print(\"precision: \",prec)\n",
    "list6.append(prec)\n",
    "rec= recall_score(y6_test,y6_pred)\n",
    "print(\"recall: \", rec)\n",
    "list7.append(rec)\n",
    "z= f1_score(y6_test,y6_pred,average='weighted')\n",
    "print(\"f1-score: \",z)\n",
    "list8.append(z)\n",
    "f=accuracy_score(y6_test, y6_pred)\n",
    "print(\"Accuracy: \",f)\n",
    "list5.append(f)\n",
    "\n",
    "\n",
    "#printing confusion matrix\n",
    "results = confusion_matrix(y6_test, model6_knn.predict(x6_test)) \n",
    "print ('Confusion Matrix :')\n",
    "print(results) \n",
    "print((classification_report(y6_test, model6_knn.predict(x6_test))))\n",
    "\n",
    "\n",
    "#printing the confusion matrix\n",
    "LABELS = ['Normal', 'Fraud']\n",
    "plt.figure(figsize=(5, 5))\n",
    "sns.heatmap(results, xticklabels=LABELS,yticklabels=LABELS, annot=True, fmt='d');\n",
    "plt.title('Confusion Matrix')\n",
    "plt.ylabel('Actual')\n",
    "plt.xlabel('Predicted')\n",
    "plt.show()\n",
    "\n",
    "print(list5)\n",
    "print(list6)\n",
    "print(list7)\n",
    "print(list8)"
   ]
  },
  {
   "cell_type": "code",
   "execution_count": 24,
   "metadata": {},
   "outputs": [
    {
     "name": "stdout",
     "output_type": "stream",
     "text": [
      "Accuracy of the model is:  0.9959340173172941\n",
      "Precision of the model is:  0.40114298115975183\n",
      "Recall of the model is:  0.839430894308943\n",
      "f-1 score of the model is:  0.9971134653790169\n"
     ]
    }
   ],
   "source": [
    "###KNN Model means of 6 folds ,Final result\n",
    "from statistics import mean\n",
    "accuracy=mean(list5)\n",
    "print(\"Accuracy of the model is: \",accuracy)\n",
    "precision=mean(list6)\n",
    "print(\"Precision of the model is: \",precision)\n",
    "recall=mean(list7)\n",
    "print(\"Recall of the model is: \",recall)\n",
    "p=mean(list8)\n",
    "print(\"f-1 score of the model is: \",p)"
   ]
  },
  {
   "cell_type": "code",
   "execution_count": null,
   "metadata": {},
   "outputs": [],
   "source": []
  }
 ],
 "metadata": {
  "kernelspec": {
   "display_name": "Python 3",
   "language": "python",
   "name": "python3"
  },
  "language_info": {
   "codemirror_mode": {
    "name": "ipython",
    "version": 3
   },
   "file_extension": ".py",
   "mimetype": "text/x-python",
   "name": "python",
   "nbconvert_exporter": "python",
   "pygments_lexer": "ipython3",
   "version": "3.7.3"
  }
 },
 "nbformat": 4,
 "nbformat_minor": 2
}
